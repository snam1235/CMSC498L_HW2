{
  "nbformat": 4,
  "nbformat_minor": 0,
  "metadata": {
    "kernelspec": {
      "display_name": "Python 3",
      "language": "python",
      "name": "python3"
    },
    "language_info": {
      "codemirror_mode": {
        "name": "ipython",
        "version": 3
      },
      "file_extension": ".py",
      "mimetype": "text/x-python",
      "name": "python",
      "nbconvert_exporter": "python",
      "pygments_lexer": "ipython3",
      "version": "3.7.4"
    },
    "colab": {
      "name": "hw2.ipynb",
      "provenance": [],
      "collapsed_sections": [
        "IODbuegQf3CQ"
      ],
      "toc_visible": true
    }
  },
  "cells": [
    {
      "cell_type": "markdown",
      "metadata": {
        "id": "ItQqQet7f3BD",
        "colab_type": "text"
      },
      "source": [
        "# Basic Instructions\n",
        "\n",
        "1. Enter your Name and UID in the provided space.\n",
        "2. Do the assignment in the notebook itself\n",
        "3. you are free to use Google Colab\n"
      ]
    },
    {
      "cell_type": "markdown",
      "metadata": {
        "id": "O5i8FwIMf3BF",
        "colab_type": "text"
      },
      "source": [
        "Name:  Seung Won Nam\n",
        "UID:  115407831"
      ]
    },
    {
      "cell_type": "markdown",
      "metadata": {
        "id": "3J84zC2gf3BF",
        "colab_type": "text"
      },
      "source": [
        "In the first part, you will implement all the functions required to build a two layer neural network.\n",
        "In the next part, you will use these functions for image and text classification. Provide your code at the appropriate placeholders."
      ]
    },
    {
      "cell_type": "markdown",
      "metadata": {
        "id": "PPh192GEf3BG",
        "colab_type": "text"
      },
      "source": [
        "## 1. Packages"
      ]
    },
    {
      "cell_type": "code",
      "metadata": {
        "id": "HXl8-B_6f3BH",
        "colab_type": "code",
        "colab": {}
      },
      "source": [
        "import numpy as np\n",
        "import matplotlib.pyplot as plt\n",
        "import h5py\n",
        "import scipy\n",
        "from PIL import Image\n",
        "from scipy import ndimage"
      ],
      "execution_count": 0,
      "outputs": []
    },
    {
      "cell_type": "markdown",
      "metadata": {
        "id": "fE_jyk_8f3BK",
        "colab_type": "text"
      },
      "source": [
        "## 2. Layer Initialization"
      ]
    },
    {
      "cell_type": "markdown",
      "metadata": {
        "id": "ugrcM4Hef3BL",
        "colab_type": "text"
      },
      "source": [
        "**Exercise:** Create and initialize the parameters of the 2-layer neural network. Use random initialization for the weight matrices and zero initialization for the biases."
      ]
    },
    {
      "cell_type": "code",
      "metadata": {
        "id": "maPCZS95f3BL",
        "colab_type": "code",
        "colab": {}
      },
      "source": [
        "def initialize_parameters(n_x, n_h, n_y):\n",
        "    \"\"\"\n",
        "    Argument:\n",
        "    n_x -- size of the input layer\n",
        "    n_h -- size of the hidden layer\n",
        "    n_y -- size of the output layer\n",
        "    \n",
        "    Returns:\n",
        "    parameters -- python dictionary containing your parameters:\n",
        "                    W1 -- weight matrix of shape (n_h, n_x)\n",
        "                    b1 -- bias vector of shape (n_h, 1)\n",
        "                    W2 -- weight matrix of shape (n_y, n_h)\n",
        "                    b2 -- bias vector of shape (n_y, 1)\n",
        "    \"\"\"\n",
        "    \n",
        "    np.random.seed(1)\n",
        "    \n",
        "    ### START CODE HERE ### (≈ 4 lines of code)\n",
        "    W1 = 0.01*np.random.randn(n_h,n_x)\n",
        "    W2 = 0.01*np.random.randn(n_y,n_h)\n",
        "    b1 = np.zeros((n_h,1))\n",
        "    b2 = np.zeros((n_y,1))\n",
        "    ### END CODE HERE ###\n",
        "    assert(W1.shape == (n_h, n_x))\n",
        "    assert(b1.shape == (n_h, 1))\n",
        "    assert(W2.shape == (n_y, n_h))\n",
        "    assert(b2.shape == (n_y, 1))\n",
        "    \n",
        "    \n",
        "    parameters = {\"W1\": W1,\n",
        "                  \"b1\": b1,\n",
        "                  \"W2\": W2,\n",
        "                  \"b2\": b2}\n",
        "    \n",
        "    return parameters"
      ],
      "execution_count": 0,
      "outputs": []
    },
    {
      "cell_type": "markdown",
      "metadata": {
        "id": "V_FNzt3g0mMJ",
        "colab_type": "text"
      },
      "source": [
        ""
      ]
    },
    {
      "cell_type": "markdown",
      "metadata": {
        "id": "8_c80GH-0mdL",
        "colab_type": "text"
      },
      "source": [
        ""
      ]
    },
    {
      "cell_type": "code",
      "metadata": {
        "id": "iIoLPhGqf3BO",
        "colab_type": "code",
        "outputId": "0624fbad-2e1e-420e-bb8a-83f57bba9c69",
        "colab": {
          "base_uri": "https://localhost:8080/",
          "height": 122
        }
      },
      "source": [
        "parameters = initialize_parameters(3,2,1)\n",
        "print(\"W1 = \" + str(parameters[\"W1\"]))\n",
        "print(\"b1 = \" + str(parameters[\"b1\"]))\n",
        "print(\"W2 = \" + str(parameters[\"W2\"]))\n",
        "print(\"b2 = \" + str(parameters[\"b2\"]))"
      ],
      "execution_count": 173,
      "outputs": [
        {
          "output_type": "stream",
          "text": [
            "W1 = [[ 0.01624345 -0.00611756 -0.00528172]\n",
            " [-0.01072969  0.00865408 -0.02301539]]\n",
            "b1 = [[0.]\n",
            " [0.]]\n",
            "W2 = [[ 0.01744812 -0.00761207]]\n",
            "b2 = [[0.]]\n"
          ],
          "name": "stdout"
        }
      ]
    },
    {
      "cell_type": "markdown",
      "metadata": {
        "id": "LVthhXgif3BV",
        "colab_type": "text"
      },
      "source": [
        "**Expected output**:\n",
        "       \n",
        "<table style=\"width:80%\">\n",
        "  <tr>\n",
        "    <td> **W1** </td>\n",
        "    <td> [[ 0.01624345 -0.00611756 -0.00528172]\n",
        " [-0.01072969  0.00865408 -0.02301539]] </td> \n",
        "  </tr>\n",
        "\n",
        "  <tr>\n",
        "    <td> **b1**</td>\n",
        "    <td>[[ 0.]\n",
        " [ 0.]]</td> \n",
        "  </tr>\n",
        "  \n",
        "  <tr>\n",
        "    <td>**W2**</td>\n",
        "    <td> [[ 0.01744812 -0.00761207]]</td>\n",
        "  </tr>\n",
        "  \n",
        "  <tr>\n",
        "    <td> **b2** </td>\n",
        "    <td> [[ 0.]] </td> \n",
        "  </tr>\n",
        "  \n",
        "</table>"
      ]
    },
    {
      "cell_type": "markdown",
      "metadata": {
        "id": "KmC4m6wFf3BW",
        "colab_type": "text"
      },
      "source": [
        "## 3. Forward Propagation"
      ]
    },
    {
      "cell_type": "markdown",
      "metadata": {
        "id": "7BIQ40P1f3BX",
        "colab_type": "text"
      },
      "source": [
        "Now that you have initialized your parameters, you will do the forward propagation module. You will start by implementing some basic functions that you will use later when implementing the model. You will complete three functions in this order:\n",
        "\n",
        "- LINEAR\n",
        "- LINEAR -> ACTIVATION where ACTIVATION will be either ReLU or Sigmoid.\n",
        "\n",
        "The linear module computes the following equation:\n",
        "\n",
        "$$Z = WA+b\\tag{4}$$\n",
        "\n",
        "### 3.1 Exercise: Build the linear part of forward propagation."
      ]
    },
    {
      "cell_type": "code",
      "metadata": {
        "id": "q-6iBg8Uf3BX",
        "colab_type": "code",
        "colab": {}
      },
      "source": [
        "def linear_forward(A, W, b):\n",
        "    \"\"\"\n",
        "    Implement the linear part of a layer's forward propagation.\n",
        "\n",
        "    Arguments:\n",
        "    A -- activations from previous layer (or input data): (size of previous layer, number of examples)\n",
        "    W -- weights matrix: numpy array of shape (size of current layer, size of previous layer)\n",
        "    b -- bias vector, numpy array of shape (size of the current layer, 1)\n",
        "\n",
        "    Returns:\n",
        "    Z -- the input of the activation function, also called pre-activation parameter \n",
        "    cache -- a python dictionary containing \"A\", \"W\" and \"b\" ; stored for computing the backward pass efficiently\n",
        "    \"\"\"\n",
        "\n",
        "   \n",
        "    ### START CODE HERE ### (≈ 1 line of code)\n",
        "    Z = W.dot(A) + b\n",
        "    ### END CODE HERE ###\n",
        "    \n",
        "    assert(Z.shape == (W.shape[0], A.shape[1]))\n",
        "    cache = (A, W, b)\n",
        "    \n",
        "    return Z, cache"
      ],
      "execution_count": 0,
      "outputs": []
    },
    {
      "cell_type": "code",
      "metadata": {
        "id": "DUnu7LThf3Ba",
        "colab_type": "code",
        "outputId": "6ff4d780-73d2-4ae4-9d40-48b450fee4e3",
        "colab": {
          "base_uri": "https://localhost:8080/",
          "height": 34
        }
      },
      "source": [
        "np.random.seed(1)\n",
        "\n",
        "A = np.random.randn(3,2)\n",
        "W = np.random.randn(1,3)\n",
        "b = np.random.randn(1,1)\n",
        "\n",
        "Z, linear_cache = linear_forward(A, W, b)\n",
        "\n",
        "print(\"Z = \" + str(Z))"
      ],
      "execution_count": 175,
      "outputs": [
        {
          "output_type": "stream",
          "text": [
            "Z = [[ 3.26295337 -1.23429987]]\n"
          ],
          "name": "stdout"
        }
      ]
    },
    {
      "cell_type": "markdown",
      "metadata": {
        "id": "XUh5avsGf3Bd",
        "colab_type": "text"
      },
      "source": [
        "**Expected output**:\n",
        "\n",
        "<table style=\"width:35%\">\n",
        "  \n",
        "  <tr>\n",
        "    <td> **Z** </td>\n",
        "    <td> [[ 3.26295337 -1.23429987]] </td> \n",
        "  </tr>\n",
        "  \n",
        "</table>"
      ]
    },
    {
      "cell_type": "markdown",
      "metadata": {
        "id": "Lv89lORnf3Bd",
        "colab_type": "text"
      },
      "source": [
        "### 3.2 - Linear-Activation Forward\n",
        "\n",
        "In this notebook, you will use two activation functions:\n",
        "\n",
        "- **Sigmoid**: $\\sigma(Z) = \\sigma(W A + b) = \\frac{1}{ 1 + e^{-(W A + b)}}$. Write the code for the `sigmoid` function. This function returns **two** items: the activation value \"`a`\" and a \"`cache`\" that contains \"`Z`\" (it's what we will feed in to the corresponding backward function). To use it you could just call: \n",
        "``` python\n",
        "A, activation_cache = sigmoid(Z)\n",
        "```\n",
        "\n",
        "- **ReLU**: The mathematical formula for ReLu is $A = RELU(Z) = max(0, Z)$. Write the code for the  `relu` function. This function returns **two** items: the activation value \"`A`\" and a \"`cache`\" that contains \"`Z`\" (it's what we will feed in to the corresponding backward function). To use it you could just call:\n",
        "``` python\n",
        "A, activation_cache = relu(Z)\n",
        "\n",
        "**Exercise**: \n",
        "- Implement the activation functions\n",
        "- Build the linear activation part of forward propagation. Mathematical relation is: $A = g(Z) = g(WA_{prev} +b)$"
      ]
    },
    {
      "cell_type": "code",
      "metadata": {
        "id": "7toBRxFnf3Be",
        "colab_type": "code",
        "colab": {}
      },
      "source": [
        "def sigmoid(Z):\n",
        "    \"\"\"\n",
        "    Implements the sigmoid activation in numpy\n",
        "    \n",
        "    Arguments:\n",
        "    Z -- numpy array of any shape\n",
        "    \n",
        "    Returns:\n",
        "    A -- output of sigmoid(z), same shape as Z\n",
        "    cache -- returns Z, useful during backpropagation\n",
        "    \"\"\"\n",
        "    ### START CODE HERE ### (≈ 2 line of code)\n",
        "    A = 1/(1+np.exp(-Z))\n",
        "    cache = Z\n",
        "    ### END CODE HERE ###\n",
        "    \n",
        "    return A, cache\n",
        "\n",
        "def relu(Z):\n",
        "    \"\"\"\n",
        "    Implement the RELU function.\n",
        "\n",
        "    Arguments:\n",
        "    Z -- Output of the linear layer, of any shape\n",
        "\n",
        "    Returns:\n",
        "    A -- Post-activation parameter, of the same shape as Z\n",
        "    cache --  returns Z, useful during backpropagation\n",
        "    \"\"\"\n",
        "    \n",
        "    ### START CODE HERE ### (≈ 2 line of code)\n",
        "    A = np.maximum(0,Z)\n",
        "    cache = Z\n",
        "    ### END CODE HERE ###\n",
        "    \n",
        "    assert(A.shape == Z.shape) \n",
        "    return A, cache"
      ],
      "execution_count": 0,
      "outputs": []
    },
    {
      "cell_type": "code",
      "metadata": {
        "id": "Y84-W_lVf3Bj",
        "colab_type": "code",
        "colab": {}
      },
      "source": [
        "def linear_activation_forward(A_prev, W, b, activation):\n",
        "    \"\"\"\n",
        "    Implement the forward propagation for the LINEAR->ACTIVATION layer\n",
        "\n",
        "    Arguments:\n",
        "    A_prev -- activations from previous layer (or input data): (size of previous layer, number of examples)\n",
        "    W -- weights matrix: numpy array of shape (size of current layer, size of previous layer)\n",
        "    b -- bias vector, numpy array of shape (size of the current layer, 1)\n",
        "    activation -- the activation to be used in this layer, stored as a text string: \"sigmoid\" or \"relu\"\n",
        "\n",
        "    Returns:\n",
        "    A -- the output of the activation function, also called the post-activation value \n",
        "    cache -- a python dictionary containing \"linear_cache\" and \"activation_cache\";\n",
        "             stored for computing the backward pass efficiently\n",
        "    \"\"\"\n",
        "   \n",
        "    if activation == \"sigmoid\":\n",
        "        # Inputs: \"A_prev, W, b\". Outputs: \"A, activation_cache\".\n",
        "        ### START CODE HERE ### (≈ 2 lines of code)\n",
        "        Z, linear_cache = linear_forward((A_prev),W,b)\n",
        "        A, activation_cache = sigmoid(Z)\n",
        "        ### END CODE HERE ###\n",
        "    \n",
        "    elif activation == \"relu\":\n",
        "        # Inputs: \"A_prev, W, b\". Outputs: \"A, activation_cache\".\n",
        "        ### START CODE HERE ### (≈ 2 lines of code)\n",
        "        Z, linear_cache = linear_forward((A_prev),W,b)\n",
        "        A, activation_cache = relu(Z)\n",
        "        ### END CODE HERE ###\n",
        "    \n",
        "        \n",
        "    \n",
        "    assert (A.shape == (W.shape[0], A_prev.shape[1]))\n",
        "    cache = (linear_cache, activation_cache)\n",
        "\n",
        "    return A, cache"
      ],
      "execution_count": 0,
      "outputs": []
    },
    {
      "cell_type": "code",
      "metadata": {
        "id": "-Glaqrnof3Bm",
        "colab_type": "code",
        "outputId": "c91ef203-12e5-4528-c88a-2fbb4b26233d",
        "colab": {
          "base_uri": "https://localhost:8080/",
          "height": 52
        }
      },
      "source": [
        "np.random.seed(2)\n",
        "A_prev = np.random.randn(3,2)\n",
        "W = np.random.randn(1,3)\n",
        "b = np.random.randn(1,1)\n",
        "\n",
        "A, linear_activation_cache = linear_activation_forward(A_prev, W, b, activation = \"sigmoid\")\n",
        "print(\"With sigmoid: A = \" + str(A))\n",
        "\n",
        "A, linear_activation_cache = linear_activation_forward(A_prev, W, b, activation = \"relu\")\n",
        "print(\"With ReLU: A = \" + str(A))"
      ],
      "execution_count": 178,
      "outputs": [
        {
          "output_type": "stream",
          "text": [
            "With sigmoid: A = [[0.96890023 0.11013289]]\n",
            "With ReLU: A = [[3.43896131 0.        ]]\n"
          ],
          "name": "stdout"
        }
      ]
    },
    {
      "cell_type": "markdown",
      "metadata": {
        "id": "Ei2o51Ebf3Br",
        "colab_type": "text"
      },
      "source": [
        "**Expected output**:\n",
        "       \n",
        "<table style=\"width:35%\">\n",
        "  <tr>\n",
        "    <td> **With sigmoid: A ** </td>\n",
        "    <td > [[ 0.96890023  0.11013289]]</td> \n",
        "  </tr>\n",
        "  <tr>\n",
        "    <td> **With ReLU: A ** </td>\n",
        "    <td > [[ 3.43896131  0.        ]]</td> \n",
        "  </tr>\n",
        "</table>\n"
      ]
    },
    {
      "cell_type": "code",
      "metadata": {
        "id": "RzxmxEfP8-Mq",
        "colab_type": "code",
        "colab": {}
      },
      "source": [
        ""
      ],
      "execution_count": 0,
      "outputs": []
    },
    {
      "cell_type": "markdown",
      "metadata": {
        "id": "RVtzC9IUf3Br",
        "colab_type": "text"
      },
      "source": [
        "## 4 - Loss function\n",
        "\n",
        "Now you will implement forward and backward propagation. You need to compute the loss, because you want to check if your model is actually learning.\n",
        "\n",
        "**Exercise**: Compute the cross-entropy loss $J$, using the following formula: $$-\\frac{1}{m} \\sum\\limits_{i = 1}^{m} (y^{(i)}\\log\\left(a^{ (i)}\\right) + (1-y^{(i)})\\log\\left(1- a^{(i)}\\right)) \\tag{7}$$"
      ]
    },
    {
      "cell_type": "code",
      "metadata": {
        "id": "DZD0QdPJf3Bs",
        "colab_type": "code",
        "colab": {}
      },
      "source": [
        "# GRADED FUNCTION: compute_loss\n",
        "\n",
        "def compute_loss(A, Y):\n",
        "    \"\"\"\n",
        "    Implement the loss function defined by equation (7).\n",
        "\n",
        "    Arguments:\n",
        "    A -- probability vector corresponding to your label predictions, shape (1, number of examples)\n",
        "    Y -- true \"label\" vector (for example: containing 0 if non-cat, 1 if cat), shape (1, number of examples)\n",
        "\n",
        "    Returns:\n",
        "    loss -- cross-entropy loss\n",
        "    \"\"\"\n",
        "    \n",
        "    m = Y.shape[1]\n",
        "\n",
        "    # Compute loss from aL and y.\n",
        "    ### START CODE HERE ### (≈ 1 lines of code)\n",
        "    loss = - (1. / m) * np.sum(np.multiply(Y, np.log(A)) + np.multiply(1 - Y, np.log(1 - A)))\n",
        "    ### END CODE HERE ###\n",
        "    \n",
        "    loss = np.squeeze(loss)      # To make sure your loss's shape is what we expect (e.g. this turns [[17]] into 17).\n",
        "    assert(loss.shape == ())\n",
        "    \n",
        "    return loss"
      ],
      "execution_count": 0,
      "outputs": []
    },
    {
      "cell_type": "code",
      "metadata": {
        "id": "5B6aeieDf3Bu",
        "colab_type": "code",
        "outputId": "0b100cba-e157-4312-e250-735caff2f58e",
        "colab": {
          "base_uri": "https://localhost:8080/",
          "height": 34
        }
      },
      "source": [
        "Y = np.asarray([[1, 1, 1]])\n",
        "A = np.array([[.8,.9,0.4]])\n",
        "\n",
        "print(\"loss = \" + str(compute_loss(A, Y)))"
      ],
      "execution_count": 180,
      "outputs": [
        {
          "output_type": "stream",
          "text": [
            "loss = 0.41493159961539694\n"
          ],
          "name": "stdout"
        }
      ]
    },
    {
      "cell_type": "markdown",
      "metadata": {
        "id": "uBVUq4dHf3Bx",
        "colab_type": "text"
      },
      "source": [
        "**Expected Output**:\n",
        "\n",
        "<table>\n",
        "    <tr>\n",
        "    <td>**loss** </td>\n",
        "    <td> 0.41493159961539694</td> \n",
        "    </tr>\n",
        "</table>"
      ]
    },
    {
      "cell_type": "markdown",
      "metadata": {
        "id": "_QFOt_X2f3By",
        "colab_type": "text"
      },
      "source": [
        "## 5 - Backward propagation module\n",
        "\n",
        "Just like with forward propagation, you will implement helper functions for backpropagation. Remember that back propagation is used to calculate the gradient of the loss function with respect to the parameters. \n",
        "\n",
        "Now, similar to forward propagation, you are going to build the backward propagation in two steps:\n",
        "- LINEAR backward\n",
        "- LINEAR -> ACTIVATION backward where ACTIVATION computes the derivative of either the ReLU or sigmoid activation\n",
        "\n",
        "### 5.1 - Linear backward"
      ]
    },
    {
      "cell_type": "code",
      "metadata": {
        "id": "l643AuCgf3Bz",
        "colab_type": "code",
        "colab": {}
      },
      "source": [
        "# GRADED FUNCTION: linear_backward\n",
        "\n",
        "def linear_backward(dZ, cache):\n",
        "    \"\"\"\n",
        "    Implement the linear portion of backward propagation for a single layer (layer l)\n",
        "\n",
        "    Arguments:\n",
        "    dZ -- Gradient of the loss with respect to the linear output (of current layer l)\n",
        "    cache -- tuple of values (A_prev, W, b) coming from the forward propagation in the current layer\n",
        "\n",
        "    Returns:\n",
        "    dA_prev -- Gradient of the loss with respect to the activation (of the previous layer l-1), same shape as A_prev\n",
        "    dW -- Gradient of the loss with respect to W (current layer l), same shape as W\n",
        "    db -- Gradient of the loss with respect to b (current layer l), same shape as b\n",
        "    \"\"\"\n",
        "    A_prev, W, b = cache\n",
        "    m = A_prev.shape[1]\n",
        "   \n",
        "    ### START CODE HERE ### (≈ 3 lines of code)\n",
        "    dW = np.dot(dZ, A_prev.T)\n",
        "    db =np.sum(dZ, axis=1, keepdims=True)\n",
        "    dA_prev = np.dot(W.T, dZ)\n",
        "    ### END CODE HERE ###\n",
        "\n",
        "    assert (dA_prev.shape == A_prev.shape)\n",
        "    assert (dW.shape == W.shape)\n",
        "    assert (db.shape == b.shape)\n",
        "    \n",
        "    return dA_prev, dW, db"
      ],
      "execution_count": 0,
      "outputs": []
    },
    {
      "cell_type": "code",
      "metadata": {
        "id": "FhlY0FtGf3B4",
        "colab_type": "code",
        "outputId": "4a64d76d-e798-4d47-f94e-dd76affa738e",
        "colab": {
          "base_uri": "https://localhost:8080/",
          "height": 105
        }
      },
      "source": [
        "np.random.seed(1)\n",
        "dZ = np.random.randn(1,2)\n",
        "A = np.random.randn(3,2)\n",
        "W = np.random.randn(1,3)\n",
        "b = np.random.randn(1,1)\n",
        "linear_cache = (A, W, b)\n",
        "\n",
        "dA_prev, dW, db = linear_backward(dZ, linear_cache)\n",
        "print (\"dA_prev = \"+ str(dA_prev))\n",
        "print (\"dW = \" + str(dW))\n",
        "print (\"db = \" + str(db))"
      ],
      "execution_count": 182,
      "outputs": [
        {
          "output_type": "stream",
          "text": [
            "dA_prev = [[ 0.51822968 -0.19517421]\n",
            " [-0.40506361  0.15255393]\n",
            " [ 2.37496825 -0.89445391]]\n",
            "dW = [[-0.2015379   2.81370193  3.2998501 ]]\n",
            "db = [[1.01258895]]\n"
          ],
          "name": "stdout"
        }
      ]
    },
    {
      "cell_type": "markdown",
      "metadata": {
        "id": "k82rw12Kf3B6",
        "colab_type": "text"
      },
      "source": [
        "**Expected Output**: \n",
        "\n",
        "<table style=\"width:90%\">\n",
        "  <tr>\n",
        "    <td> **dA_prev** </td>\n",
        "    <td > [[ 0.51822968 -0.19517421]\n",
        " [-0.40506361  0.15255393]\n",
        " [ 2.37496825 -0.89445391]] </td> \n",
        "  </tr> \n",
        "    <tr>\n",
        "        <td> **dW** </td>\n",
        "        <td > [[-0.2015379   2.81370193  3.2998501 ]] </td> \n",
        "    </tr> \n",
        "    <tr>\n",
        "        <td> **db** </td>\n",
        "        <td> [[1.01258895]] </td> \n",
        "    </tr>     \n",
        "</table>"
      ]
    },
    {
      "cell_type": "markdown",
      "metadata": {
        "id": "RbqiF60if3B6",
        "colab_type": "text"
      },
      "source": [
        "### 5.2 - Linear Activation backward\n",
        "\n",
        "Next, you will create a function that merges the two helper functions: **`linear_backward`** and the backward step for the activation **`linear_activation_backward`**. \n",
        "\n",
        "Before implementing `linear_activation_backward`, you need to implement two backward functions for each activations:\n",
        "- **`sigmoid_backward`**: Implements the backward propagation for SIGMOID unit. You can call it as follows:\n",
        "\n",
        "```python\n",
        "dZ = sigmoid_backward(dA, activation_cache)\n",
        "```\n",
        "\n",
        "- **`relu_backward`**: Implements the backward propagation for RELU unit. You can call it as follows:\n",
        "\n",
        "```python\n",
        "dZ = relu_backward(dA, activation_cache)\n",
        "```\n",
        "\n",
        "If $g(.)$ is the activation function, \n",
        "`sigmoid_backward` and `relu_backward` compute $$dZ^{[l]} = dA^{[l]} * g'(Z^{[l]}) \\tag{11}$$.  \n",
        "\n",
        "**Exercise**: \n",
        "- Implement the backward functions for the relu and sigmoid activation layer.\n",
        "- Implement the backpropagation for the *LINEAR->ACTIVATION* layer."
      ]
    },
    {
      "cell_type": "code",
      "metadata": {
        "id": "eea5Ja9of3B7",
        "colab_type": "code",
        "colab": {}
      },
      "source": [
        "def relu_backward(dA, cache):\n",
        "    \"\"\"\n",
        "    Implement the backward propagation for a single RELU unit.\n",
        "\n",
        "    Arguments:\n",
        "    dA -- post-activation gradient, of any shape\n",
        "    cache -- 'Z' where we store for computing backward propagation efficiently\n",
        "\n",
        "    Returns:\n",
        "    dZ -- Gradient of the loss with respect to Z\n",
        "    \"\"\"\n",
        "    \n",
        "    Z = cache\n",
        "    dZ = np.array(dA, copy=True) # just converting dz to a correct object.\n",
        "    \n",
        "    ### START CODE HERE ### (≈ 1 line of code)\n",
        "    A, Z = relu(Z)\n",
        "    dZ = np.multiply(dA, np.int64(A > 0))\n",
        "    ### END CODE HERE ###\n",
        "    \n",
        "    assert (dZ.shape == Z.shape)\n",
        "    \n",
        "    return dZ\n",
        "\n",
        "def sigmoid_backward(dA, cache):\n",
        "    \"\"\"\n",
        "    Implement the backward propagation for a single SIGMOID unit.\n",
        "\n",
        "    Arguments:\n",
        "    dA -- post-activation gradient, of any shape\n",
        "    cache -- 'Z' where we store for computing backward propagation efficiently\n",
        "\n",
        "    Returns:\n",
        "    dZ -- Gradient of the loss with respect to Z\n",
        "    \"\"\"\n",
        "    \n",
        "    Z = cache\n",
        "    \n",
        "    ### START CODE HERE ### (≈ 2 line of code)\n",
        "    A, Z = sigmoid(Z)\n",
        "    dZ = dA * A * (1 - A)\n",
        "    ### END CODE HERE ###\n",
        "    \n",
        "    assert (dZ.shape == Z.shape)\n",
        "    \n",
        "    return dZ\n"
      ],
      "execution_count": 0,
      "outputs": []
    },
    {
      "cell_type": "code",
      "metadata": {
        "id": "HdidfWQof3B_",
        "colab_type": "code",
        "colab": {}
      },
      "source": [
        "# GRADED FUNCTION: linear_activation_backward\n",
        "\n",
        "def linear_activation_backward(dA, cache, activation):\n",
        "    \"\"\"\n",
        "    Implement the backward propagation for the LINEAR->ACTIVATION layer.\n",
        "    \n",
        "    Arguments:\n",
        "    dA -- post-activation gradient for current layer l \n",
        "    cache -- tuple of values (linear_cache, activation_cache) we store for computing backward propagation efficiently\n",
        "    activation -- the activation to be used in this layer, stored as a text string: \"sigmoid\" or \"relu\"\n",
        "    \n",
        "    Returns:\n",
        "    dA_prev -- Gradient of the loss with respect to the activation (of the previous layer l-1), same shape as A_prev\n",
        "    dW -- Gradient of the loss with respect to W (current layer l), same shape as W\n",
        "    db -- Gradient of the loss with respect to b (current layer l), same shape as b\n",
        "    \"\"\"\n",
        "    linear_cache, activation_cache = cache\n",
        "    \n",
        "    if activation == \"relu\":\n",
        "        ### START CODE HERE ### (≈ 2 lines of code)\n",
        "        dZ = relu_backward(dA, activation_cache)\n",
        "        dA_prev, dW, db = linear_backward(dZ, linear_cache)\n",
        "        \n",
        "        ### END CODE HERE ###\n",
        "        \n",
        "    elif activation == \"sigmoid\":\n",
        "        ### START CODE HERE ### (≈ 2 lines of code)\n",
        "        dZ = sigmoid_backward(dA, activation_cache)\n",
        "        dA_prev, dW, db = linear_backward(dZ, linear_cache)\n",
        "        \n",
        "        ### END CODE HERE ###\n",
        "    \n",
        "    return dA_prev, dW, db"
      ],
      "execution_count": 0,
      "outputs": []
    },
    {
      "cell_type": "code",
      "metadata": {
        "id": "b2VAnWihf3CE",
        "colab_type": "code",
        "outputId": "587f39fd-dd20-4213-e761-bd61f0edc338",
        "colab": {
          "base_uri": "https://localhost:8080/",
          "height": 246
        }
      },
      "source": [
        "np.random.seed(2)\n",
        "dA = np.random.randn(1,2)\n",
        "A = np.random.randn(3,2)\n",
        "W = np.random.randn(1,3)\n",
        "b = np.random.randn(1,1)\n",
        "Z = np.random.randn(1,2)\n",
        "linear_cache = (A, W, b)\n",
        "activation_cache = Z\n",
        "linear_activation_cache = (linear_cache, activation_cache)\n",
        "\n",
        "dA_prev, dW, db = linear_activation_backward(dA, linear_activation_cache, activation = \"sigmoid\")\n",
        "print (\"sigmoid:\")\n",
        "print (\"dA_prev = \"+ str(dA_prev))\n",
        "print (\"dW = \" + str(dW))\n",
        "print (\"db = \" + str(db) + \"\\n\")\n",
        "\n",
        "dA_prev, dW, db = linear_activation_backward(dA, linear_activation_cache, activation = \"relu\")\n",
        "print (\"relu:\")\n",
        "print (\"dA_prev = \"+ str(dA_prev))\n",
        "print (\"dW = \" + str(dW))\n",
        "print (\"db = \" + str(db))"
      ],
      "execution_count": 185,
      "outputs": [
        {
          "output_type": "stream",
          "text": [
            "sigmoid:\n",
            "dA_prev = [[ 0.11017994  0.01105339]\n",
            " [ 0.09466817  0.00949723]\n",
            " [-0.05743092 -0.00576154]]\n",
            "dW = [[ 0.20533573  0.19557101 -0.03936168]]\n",
            "db = [[-0.11459244]]\n",
            "\n",
            "relu:\n",
            "dA_prev = [[ 0.44090989  0.        ]\n",
            " [ 0.37883606  0.        ]\n",
            " [-0.2298228   0.        ]]\n",
            "dW = [[ 0.89027649  0.74742835 -0.20957978]]\n",
            "db = [[-0.41675785]]\n"
          ],
          "name": "stdout"
        }
      ]
    },
    {
      "cell_type": "markdown",
      "metadata": {
        "id": "n23Pmn3Of3CI",
        "colab_type": "text"
      },
      "source": [
        "**Expected output with sigmoid:**\n",
        "\n",
        "<table style=\"width:100%\">\n",
        "  <tr>\n",
        "    <td > dA_prev </td> \n",
        "           <td >[[ 0.11017994  0.01105339]\n",
        " [ 0.09466817  0.00949723]\n",
        " [-0.05743092 -0.00576154]] </td> \n",
        "  </tr> \n",
        "    <tr>\n",
        "    <td > dW </td> \n",
        "           <td > [[ 0.20533573  0.19557101 -0.03936168]] </td> \n",
        "  </tr> \n",
        "    <tr>\n",
        "    <td > db </td> \n",
        "           <td > [[-0.11459244]] </td> \n",
        "  </tr> \n",
        "</table>"
      ]
    },
    {
      "cell_type": "markdown",
      "metadata": {
        "id": "jFWRvnR8f3CJ",
        "colab_type": "text"
      },
      "source": [
        "**Expected output with relu:**\n",
        "\n",
        "<table style=\"width:100%\">\n",
        "  <tr>\n",
        "    <td > dA_prev </td> \n",
        "           <td > [[ 0.44090989  0.        ]\n",
        " [ 0.37883606  0.        ]\n",
        " [-0.2298228   0.        ]] </td> \n",
        "  </tr> \n",
        "    <tr>\n",
        "    <td > dW </td> \n",
        "           <td > [[ 0.89027649  0.74742835 -0.20957978]] </td> \n",
        "  </tr> \n",
        "    <tr>\n",
        "    <td > db </td> \n",
        "           <td > [[-0.41675785]] </td> \n",
        "  </tr> \n",
        "</table>"
      ]
    },
    {
      "cell_type": "markdown",
      "metadata": {
        "id": "nu80xwiZf3CJ",
        "colab_type": "text"
      },
      "source": [
        "### 6 - Update Parameters\n",
        "\n",
        "In this section you will update the parameters of the model, using gradient descent: \n",
        "\n",
        "$$ W^{[1]} = W^{[1]} - \\alpha \\text{ } dW^{[1]} \\tag{16}$$\n",
        "$$ b^{[1]} = b^{[1]} - \\alpha \\text{ } db^{[1]} \\tag{17}$$\n",
        "$$ W^{[2]} = W^{[2]} - \\alpha \\text{ } dW^{[2} \\tag{16}$$\n",
        "$$ b^{[2]} = b^{[2]} - \\alpha \\text{ } db^{[2]} \\tag{17}$$\n",
        "\n",
        "where $\\alpha$ is the learning rate. After computing the updated parameters, store them in the parameters dictionary. \n",
        "\n",
        "**Exercise**: Implement `update_parameters()` to update your parameters using gradient descent.\n",
        "\n",
        "**Instructions**:\n",
        "Update parameters using gradient descent.\n"
      ]
    },
    {
      "cell_type": "code",
      "metadata": {
        "id": "NKxZFEoCf3CK",
        "colab_type": "code",
        "colab": {}
      },
      "source": [
        "# GRADED FUNCTION: update_parameters\n",
        "\n",
        "def update_parameters(parameters, grads, learning_rate):\n",
        "    \"\"\"\n",
        "    Update parameters using gradient descent\n",
        "    \n",
        "    Arguments:\n",
        "    parameters -- python dictionary containing your parameters \n",
        "    grads -- python dictionary containing your gradients, output of L_model_backward\n",
        "    \n",
        "    Returns:\n",
        "    parameters -- python dictionary containing your updated parameters \n",
        "                  parameters[\"W\" + str(l)] = ... \n",
        "                  parameters[\"b\" + str(l)] = ...\n",
        "    \"\"\"\n",
        "    # Update rule for each parameter. Use a for loop.\n",
        "    ### START CODE HERE ### (≈ 4 lines of code)\n",
        "    parameters[\"W1\"]=parameters[\"W1\"]-learning_rate*grads[\"dW1\"]\n",
        "    parameters[\"b1\"]=parameters[\"b1\"]-learning_rate*grads[\"db1\"]\n",
        "    parameters[\"W2\"]=parameters[\"W2\"]-learning_rate*grads[\"dW2\"]\n",
        "    parameters[\"b2\"]=parameters[\"b2\"]-learning_rate*grads[\"db2\"]\n",
        "    ### END CODE HERE ###\n",
        "    return parameters"
      ],
      "execution_count": 0,
      "outputs": []
    },
    {
      "cell_type": "code",
      "metadata": {
        "id": "a42eCcz8f3CO",
        "colab_type": "code",
        "outputId": "4ea440fe-8f27-4623-8790-17b26b73b427",
        "colab": {
          "base_uri": "https://localhost:8080/",
          "height": 158
        }
      },
      "source": [
        "np.random.seed(2)\n",
        "W1 = np.random.randn(3,4)\n",
        "b1 = np.random.randn(3,1)\n",
        "W2 = np.random.randn(1,3)\n",
        "b2 = np.random.randn(1,1)\n",
        "parameters = {\"W1\": W1,\n",
        "              \"b1\": b1,\n",
        "              \"W2\": W2,\n",
        "              \"b2\": b2}\n",
        "np.random.seed(3)\n",
        "dW1 = np.random.randn(3,4)\n",
        "db1 = np.random.randn(3,1)\n",
        "dW2 = np.random.randn(1,3)\n",
        "db2 = np.random.randn(1,1)\n",
        "grads = {\"dW1\": dW1,\n",
        "         \"db1\": db1,\n",
        "         \"dW2\": dW2,\n",
        "         \"db2\": db2}\n",
        "parameters = update_parameters(parameters, grads, 0.1)\n",
        "\n",
        "print (\"W1 = \"+ str(parameters[\"W1\"]))\n",
        "print (\"b1 = \"+ str(parameters[\"b1\"]))\n",
        "print (\"W2 = \"+ str(parameters[\"W2\"]))\n",
        "print (\"b2 = \"+ str(parameters[\"b2\"]))"
      ],
      "execution_count": 187,
      "outputs": [
        {
          "output_type": "stream",
          "text": [
            "W1 = [[-0.59562069 -0.09991781 -2.14584584  1.82662008]\n",
            " [-1.76569676 -0.80627147  0.51115557 -1.18258802]\n",
            " [-1.0535704  -0.86128581  0.68284052  2.20374577]]\n",
            "b1 = [[-0.04659241]\n",
            " [-1.28888275]\n",
            " [ 0.53405496]]\n",
            "W2 = [[-0.55569196  0.0354055   1.32964895]]\n",
            "b2 = [[-0.84610769]]\n"
          ],
          "name": "stdout"
        }
      ]
    },
    {
      "cell_type": "markdown",
      "metadata": {
        "id": "Pc5PBdkLf3CQ",
        "colab_type": "text"
      },
      "source": [
        "**Expected Output**:\n",
        "\n",
        "<table style=\"width:100%\"> \n",
        "    <tr>\n",
        "    <td > W1 </td> \n",
        "           <td > [[-0.59562069 -0.09991781 -2.14584584  1.82662008]\n",
        " [-1.76569676 -0.80627147  0.51115557 -1.18258802]\n",
        " [-1.0535704  -0.86128581  0.68284052  2.20374577]] </td> \n",
        "  </tr> \n",
        "    <tr>\n",
        "    <td > b1 </td> \n",
        "           <td > [[-0.04659241]\n",
        " [-1.28888275]\n",
        " [ 0.53405496]] </td> \n",
        "  </tr> \n",
        "  <tr>\n",
        "    <td > W2 </td> \n",
        "           <td > [[-0.55569196  0.0354055   1.32964895]]</td> \n",
        "  </tr> \n",
        "    <tr>\n",
        "    <td > b2 </td> \n",
        "           <td > [[-0.84610769]] </td> \n",
        "  </tr> \n",
        "</table>\n"
      ]
    },
    {
      "cell_type": "markdown",
      "metadata": {
        "id": "IODbuegQf3CQ",
        "colab_type": "text"
      },
      "source": [
        "\n",
        "## 7 - Conclusion\n",
        "\n",
        "Congrats on implementing all the functions required for building a deep neural network! \n",
        "\n",
        "We know it was a long assignment but going forward it will only get better. The next part of the assignment is easier. \n",
        "\n"
      ]
    },
    {
      "cell_type": "markdown",
      "metadata": {
        "id": "B-Qw1yOsf3CT",
        "colab_type": "text"
      },
      "source": [
        "# Part 2:\n",
        "\n",
        "In the next part you will put all these together to build a two-layer neural networks for image classification."
      ]
    },
    {
      "cell_type": "code",
      "metadata": {
        "id": "JE0yHLYcf3CU",
        "colab_type": "code",
        "outputId": "f00783a3-f1a7-44e7-db2a-5ddb2da5e803",
        "colab": {
          "base_uri": "https://localhost:8080/",
          "height": 70
        }
      },
      "source": [
        "%matplotlib inline\n",
        "plt.rcParams['figure.figsize'] = (5.0, 4.0) # set default size of plots\n",
        "plt.rcParams['image.interpolation'] = 'nearest'\n",
        "plt.rcParams['image.cmap'] = 'gray'\n",
        "\n",
        "%load_ext autoreload\n",
        "%autoreload 2\n",
        "from google.colab import drive\n",
        "drive.mount('/content/drive')\n",
        "np.random.seed(1)"
      ],
      "execution_count": 188,
      "outputs": [
        {
          "output_type": "stream",
          "text": [
            "The autoreload extension is already loaded. To reload it, use:\n",
            "  %reload_ext autoreload\n",
            "Drive already mounted at /content/drive; to attempt to forcibly remount, call drive.mount(\"/content/drive\", force_remount=True).\n"
          ],
          "name": "stdout"
        }
      ]
    },
    {
      "cell_type": "markdown",
      "metadata": {
        "id": "_kbRBW9bf3CW",
        "colab_type": "text"
      },
      "source": [
        "# Dataset"
      ]
    },
    {
      "cell_type": "markdown",
      "metadata": {
        "id": "epS0YcfHf3CX",
        "colab_type": "text"
      },
      "source": [
        "**Problem Statement**: You are given a dataset (\"data/train_catvnoncat.h5\", \"data/test_catvnoncat.h5\") containing:\n",
        "    - a training set of m_train images labelled as cat (1) or non-cat (0)\n",
        "    - a test set of m_test images labelled as cat and non-cat\n",
        "    - each image is of shape (num_px, num_px, 3) where 3 is for the 3 channels (RGB).\n",
        "\n",
        "Let's get more familiar with the dataset. Load the data by completing the function and run the cell below."
      ]
    },
    {
      "cell_type": "code",
      "metadata": {
        "id": "690y4__wf3CY",
        "colab_type": "code",
        "colab": {}
      },
      "source": [
        "def load_data(train_file, test_file):\n",
        "    # Load the training data\n",
        "    train_dataset = h5py.File(train_file,'r')\n",
        "    \n",
        "    # Separate features(x) and labels(y) for training set\n",
        "    train_set_x_orig = np.array(train_dataset[\"train_set_x\"])\n",
        "    train_set_y_orig = np.array(train_dataset[\"train_set_y\"])\n",
        "\n",
        "    # Load the test data\n",
        "    test_dataset =  h5py.File(test_file,'r')\n",
        "    \n",
        "    # Separate features(x) and labels(y) for training set\n",
        "    test_set_x_orig = np.array(test_dataset[\"test_set_x\"])\n",
        "    test_set_y_orig =np.array(test_dataset[\"test_set_y\"])\n",
        "\n",
        "    classes = np.array(test_dataset[\"list_classes\"][:]) # the list of classes\n",
        "    print(train_set_x_orig.shape)\n",
        "    print(train_set_y_orig.shape)\n",
        "   \n",
        "    train_set_y_orig = train_set_y_orig.reshape((1, train_set_y_orig.shape[0]))\n",
        "    \n",
        "    test_set_y_orig = test_set_y_orig.reshape((1, test_set_y_orig.shape[0]))\n",
        "    \n",
        "    return train_set_x_orig, train_set_y_orig, test_set_x_orig, test_set_y_orig, classes\n"
      ],
      "execution_count": 0,
      "outputs": []
    },
    {
      "cell_type": "code",
      "metadata": {
        "id": "Z3yCyFSAf3Cb",
        "colab_type": "code",
        "outputId": "f7290f6c-7de5-4547-dc89-3e1bb71664bd",
        "colab": {
          "base_uri": "https://localhost:8080/",
          "height": 70
        }
      },
      "source": [
        "train_file=\"/content/drive/My Drive/data/train_catvnoncat.h5\"\n",
        "test_file=\"/content/drive/My Drive/data/test_catvnoncat.h5\"\n",
        "train_x_orig, train_y, test_x_orig, test_y, classes = load_data(train_file, test_file)\n",
        "print(train_x_orig.shape)"
      ],
      "execution_count": 190,
      "outputs": [
        {
          "output_type": "stream",
          "text": [
            "(209, 64, 64, 3)\n",
            "(209,)\n",
            "(209, 64, 64, 3)\n"
          ],
          "name": "stdout"
        }
      ]
    },
    {
      "cell_type": "markdown",
      "metadata": {
        "id": "aCCajGnTf3Ce",
        "colab_type": "text"
      },
      "source": [
        "The following code will show you an image in the dataset. Feel free to change the index and re-run the cell multiple times to see other images. "
      ]
    },
    {
      "cell_type": "code",
      "metadata": {
        "id": "75fKSYJIf3Cf",
        "colab_type": "code",
        "outputId": "b9dd53f3-6178-4f6a-939c-fff22edde575",
        "colab": {
          "base_uri": "https://localhost:8080/",
          "height": 286
        }
      },
      "source": [
        "# Example of a picture\n",
        "index = 6\n",
        "plt.imshow(train_x_orig[index])\n",
        "print (\"y = \" + str(train_y[0,index]) + \". It's a \" + classes[train_y[0,index]].decode(\"utf-8\") +  \" picture.\")"
      ],
      "execution_count": 191,
      "outputs": [
        {
          "output_type": "stream",
          "text": [
            "y = 0. It's a non-cat picture.\n"
          ],
          "name": "stdout"
        },
        {
          "output_type": "display_data",
          "data": {
            "image/png": "[encoded data removed]",
            "text/plain": [
              "<Figure size 360x288 with 1 Axes>"
            ]
          },
          "metadata": {
            "tags": []
          }
        }
      ]
    },
    {
      "cell_type": "code",
      "metadata": {
        "id": "xIg8ZLYkf3Ch",
        "colab_type": "code",
        "outputId": "d7f61fa3-ed6a-4b4e-fcba-8fc948f0dae6",
        "colab": {
          "base_uri": "https://localhost:8080/",
          "height": 140
        }
      },
      "source": [
        "# Explore your dataset \n",
        "m_train = train_x_orig.shape[0]\n",
        "num_px = train_x_orig.shape[1]\n",
        "m_test = test_x_orig.shape[0]\n",
        "\n",
        "print (\"Number of training examples: \" + str(m_train))\n",
        "print (\"Number of testing examples: \" + str(m_test))\n",
        "print (\"Each image is of size: (\" + str(num_px) + \", \" + str(num_px) + \", 3)\")\n",
        "print (\"train_x_orig shape: \" + str(train_x_orig.shape))\n",
        "print (\"train_y shape: \" + str(train_y.shape))\n",
        "print (\"test_x_orig shape: \" + str(test_x_orig.shape))\n",
        "print (\"test_y shape: \" + str(test_y.shape))"
      ],
      "execution_count": 192,
      "outputs": [
        {
          "output_type": "stream",
          "text": [
            "Number of training examples: 209\n",
            "Number of testing examples: 50\n",
            "Each image is of size: (64, 64, 3)\n",
            "train_x_orig shape: (209, 64, 64, 3)\n",
            "train_y shape: (1, 209)\n",
            "test_x_orig shape: (50, 64, 64, 3)\n",
            "test_y shape: (1, 50)\n"
          ],
          "name": "stdout"
        }
      ]
    },
    {
      "cell_type": "markdown",
      "metadata": {
        "id": "IjTVQ9mnf3Cm",
        "colab_type": "text"
      },
      "source": [
        "As usual, you reshape and standardize the images before feeding them to the network.\n",
        "\n",
        "<img src=\"imvectorkiank.png\" style=\"width:450px;height:300px;\">\n",
        "\n",
        "<caption><center> <u>Figure 1</u>: Image to vector conversion. <br> </center></caption>"
      ]
    },
    {
      "cell_type": "code",
      "metadata": {
        "id": "3AVD-5hTf3Cm",
        "colab_type": "code",
        "outputId": "e8e91b8e-3b7e-440d-bcb8-a256b93a0a90",
        "colab": {
          "base_uri": "https://localhost:8080/",
          "height": 52
        }
      },
      "source": [
        "# Reshape the training and test examples\n",
        "\n",
        "train_x_flatten = train_x_orig.reshape(train_x_orig.shape[0], -1).T   # The \"-1\" makes reshape flatten the remaining dimensions\n",
        "test_x_flatten = test_x_orig.reshape(test_x_orig.shape[0], -1).T\n",
        "\n",
        "# Standardize data to have feature values between 0 and 1.\n",
        "train_x = train_x_flatten/255\n",
        "test_x = test_x_flatten/255.\n",
        "\n",
        "print (\"train_x's shape: \" + str(train_x.shape))\n",
        "print (\"test_x's shape: \" + str(test_x.shape))\n"
      ],
      "execution_count": 193,
      "outputs": [
        {
          "output_type": "stream",
          "text": [
            "train_x's shape: (12288, 209)\n",
            "test_x's shape: (12288, 50)\n"
          ],
          "name": "stdout"
        }
      ]
    },
    {
      "cell_type": "markdown",
      "metadata": {
        "id": "vvG8VHSZf3Cq",
        "colab_type": "text"
      },
      "source": [
        "## 3 - Architecture of your model\n",
        "\n",
        "Now that you are familiar with the dataset, it is time to build a deep neural network to distinguish cat images from non-cat images.\n",
        "\n",
        "###  2-layer neural network\n",
        "\n",
        "<img src=\"2layerNN_kiank.png\" style=\"width:650px;height:400px;\">\n",
        "<caption><center> <u>Figure 2</u>: 2-layer neural network. <br> The model can be summarized as: ***INPUT -> LINEAR -> RELU -> LINEAR -> SIGMOID -> OUTPUT***. </center></caption>\n",
        "\n",
        "<u>Detailed Architecture of figure 2</u>:\n",
        "- The input is a (64,64,3) image which is flattened to a vector of size $(12288,1)$. \n",
        "- The corresponding vector: $[x_0,x_1,...,x_{12287}]^T$ is then multiplied by the weight matrix $W^{[1]}$ of size $(n^{[1]}, 12288)$.\n",
        "- You then add a bias term and take its relu to get the following vector: $[a_0^{[1]}, a_1^{[1]},..., a_{n^{[1]}-1}^{[1]}]^T$.\n",
        "- You multiply the resulting vector by $W^{[2]}$ and add your intercept (bias). \n",
        "- Finally, you take the sigmoid of the result. If it is greater than 0.5, you classify it to be a cat.\n",
        "\n",
        "\n",
        "###  General methodology\n",
        "\n",
        "As usual you will follow the Deep Learning methodology to build the model:\n",
        "    1. Initialize parameters / Define hyperparameters\n",
        "    2. Loop for num_iterations:\n",
        "        a. Forward propagation\n",
        "        b. Compute loss function\n",
        "        c. Backward propagation\n",
        "        d. Update parameters (using parameters, and grads from backprop) \n",
        "    4. Use trained parameters to predict labels\n",
        "\n",
        "Let's now implement those the model!"
      ]
    },
    {
      "cell_type": "markdown",
      "metadata": {
        "id": "h1S0YORLf3Cq",
        "colab_type": "text"
      },
      "source": [
        "\n",
        "**Question**:  Use the helper functions you have implemented in the previous assignment to build a 2-layer neural network with the following structure: *LINEAR -> RELU -> LINEAR -> SIGMOID*. The functions you may need and their inputs are:\n",
        "```python\n",
        "def initialize_parameters(n_x, n_h, n_y):\n",
        "    ...\n",
        "    return parameters \n",
        "def linear_activation_forward(A_prev, W, b, activation):\n",
        "    ...\n",
        "    return A, cache\n",
        "def compute_loss(AL, Y):\n",
        "    ...\n",
        "    return loss\n",
        "def linear_activation_backward(dA, cache, activation):\n",
        "    ...\n",
        "    return dA_prev, dW, db\n",
        "def update_parameters(parameters, grads, learning_rate):\n",
        "    ...\n",
        "    return parameters\n",
        "```\n"
      ]
    },
    {
      "cell_type": "code",
      "metadata": {
        "id": "dsS8oqcMf3Cq",
        "colab_type": "code",
        "colab": {}
      },
      "source": [
        "### CONSTANTS DEFINING THE MODEL ####\n",
        "n_x = 12288     # num_px * num_px * 3\n",
        "n_h = 7\n",
        "n_y = 1\n",
        "layers_dims = (n_x, n_h, n_y)"
      ],
      "execution_count": 0,
      "outputs": []
    },
    {
      "cell_type": "code",
      "metadata": {
        "id": "mWu6qUHQf3Cs",
        "colab_type": "code",
        "colab": {}
      },
      "source": [
        "def two_layer_model(X, Y, layers_dims, learning_rate = 0.0075, num_iterations = 3000, print_loss=False):\n",
        "    \"\"\"\n",
        "    Implements a two-layer neural network: LINEAR->RELU->LINEAR->SIGMOID.\n",
        "    \n",
        "    Arguments:\n",
        "    X -- input data, of shape (n_x, number of examples)\n",
        "    Y -- true \"label\" vector (containing 0 if cat, 1 if non-cat), of shape (1, number of examples)\n",
        "    layers_dims -- dimensions of the layers (n_x, n_h, n_y)\n",
        "    num_iterations -- number of iterations of the optimization loop\n",
        "    learning_rate -- learning rate of the gradient descent update rule\n",
        "    print_loss -- If set to True, this will print the loss every 100 iterations \n",
        "    \n",
        "    Returns:\n",
        "    parameters -- a dictionary containing W1, W2, b1, and b2\n",
        "    \"\"\"\n",
        "    \n",
        "    np.random.seed(1)\n",
        "    grads = {}\n",
        "    losses = []                              # to keep track of the loss\n",
        "    m = X.shape[1]                           # number of examples\n",
        "    (n_x, n_h, n_y) = layers_dims\n",
        "    \n",
        "    # Initialize parameters dictionary, by calling one of the functions you'd previously implemented\n",
        "    ### START CODE HERE ### (≈ 1 line of code)\n",
        "    parameters = initialize_parameters(n_x,n_h,n_y)\n",
        "    ### END CODE HERE ###\n",
        "    \n",
        "    # Get W1, b1, W2 and b2 from the dictionary parameters.\n",
        "    W1 = parameters[\"W1\"]\n",
        "    b1 = parameters[\"b1\"]\n",
        "    W2 = parameters[\"W2\"]\n",
        "    b2 = parameters[\"b2\"]\n",
        "    \n",
        "    # Loop (gradient descent)\n",
        "\n",
        "    for i in range(0, num_iterations):\n",
        "\n",
        "        # Forward propagation: LINEAR -> RELU -> LINEAR -> SIGMOID. Inputs: \"X, W1, b1, W2, b2\". Output: \"A1, cache1, A2, cache2\".\n",
        "        ### START CODE HERE ### (≈ 2 lines of code)\n",
        "        A1, cache1 = linear_activation_forward(X, W1, b1, activation = \"relu\")\n",
        "        A2, cache2 = linear_activation_forward(A1, W2, b2, activation= \"sigmoid\")\n",
        "        ### END CODE HERE ###\n",
        "        \n",
        "        # Compute loss\n",
        "        ### START CODE HERE ### (≈ 1 line of code)\n",
        "      \n",
        "        loss = compute_loss(A2,Y)\n",
        "        ### END CODE HERE ###\n",
        "        \n",
        "        # Initializing backward propagation\n",
        "        dA2 = - (np.divide(Y, A2) - np.divide(1 - Y, 1 - A2)) / m\n",
        "        \n",
        "        # Backward propagation. Inputs: \"dA2, cache2, cache1\". Outputs: \"dA1, dW2, db2; also dA0 (not used), dW1, db1\".\n",
        "        ### START CODE HERE ### (≈ 2 lines of code)\n",
        "        dA1, dW2, db2 = linear_activation_backward(dA2,cache2,activation = \"sigmoid\")\n",
        "        dA0, dW1, db1 = linear_activation_backward(dA1,cache1,activation=\"relu\")\n",
        "        ### END CODE HERE ###\n",
        "        \n",
        "        # Set grads['dWl'] to dW1, grads['db1'] to db1, grads['dW2'] to dW2, grads['db2'] to db2\n",
        "        ### START CODE HERE ### (≈ 4 lines of code)\n",
        "        grads['dW1'] = dW1\n",
        "        grads['db1'] = db1\n",
        "        grads['dW2'] = dW2\n",
        "        grads['db2'] = db2\n",
        "        ### END CODE HERE ###\n",
        "        \n",
        "    \n",
        "        # Update parameters.\n",
        "        ### START CODE HERE ### (approx. 1 line of code)\n",
        "        parameters = update_parameters(parameters, grads, learning_rate)\n",
        "        ### END CODE HERE ###\n",
        "\n",
        "        # Retrieve W1, b1, W2, b2 from parameters\n",
        "        W1 = parameters[\"W1\"]\n",
        "        b1 = parameters[\"b1\"]\n",
        "        W2 = parameters[\"W2\"]\n",
        "        b2 = parameters[\"b2\"]\n",
        "       \n",
        "        # Print the loss every 100 training example\n",
        "        if print_loss and i % 100 == 0:\n",
        "            print(\"Loss after iteration {}: {}\".format(i, np.squeeze(loss)))\n",
        "        if print_loss and i % 100 == 0:\n",
        "            losses.append(loss)\n",
        "        \n",
        "    # plot the loss\n",
        "    \n",
        "    plt.plot(np.squeeze(losses))\n",
        "    plt.ylabel('loss')\n",
        "    plt.xlabel('iterations (per tens)')\n",
        "    plt.title(\"Learning rate =\" + str(learning_rate))\n",
        "    plt.show()\n",
        "   \n",
        "    return parameters"
      ],
      "execution_count": 0,
      "outputs": []
    },
    {
      "cell_type": "code",
      "metadata": {
        "id": "230E-NXXf3Cv",
        "colab_type": "code",
        "outputId": "bd59873e-c400-4077-d18b-3c2296324754",
        "colab": {
          "base_uri": "https://localhost:8080/",
          "height": 735
        }
      },
      "source": [
        "\n",
        "parameters = two_layer_model(train_x, train_y, layers_dims = (n_x, n_h, n_y), num_iterations = 2500, print_loss=True)\n"
      ],
      "execution_count": 196,
      "outputs": [
        {
          "output_type": "stream",
          "text": [
            "Loss after iteration 0: 0.693049735659989\n",
            "Loss after iteration 100: 0.6464320953428849\n",
            "Loss after iteration 200: 0.6325140647912677\n",
            "Loss after iteration 300: 0.6015024920354665\n",
            "Loss after iteration 400: 0.5601966311605747\n",
            "Loss after iteration 500: 0.5158304772764729\n",
            "Loss after iteration 600: 0.4754901313943325\n",
            "Loss after iteration 700: 0.4339163151225749\n",
            "Loss after iteration 800: 0.4007977536203891\n",
            "Loss after iteration 900: 0.35807050113237976\n",
            "Loss after iteration 1000: 0.33942815383664116\n",
            "Loss after iteration 1100: 0.3052753636196265\n",
            "Loss after iteration 1200: 0.2749137728213018\n",
            "Loss after iteration 1300: 0.24681768210614854\n",
            "Loss after iteration 1400: 0.19850735037466094\n",
            "Loss after iteration 1500: 0.17448318112556616\n",
            "Loss after iteration 1600: 0.1708076297809698\n",
            "Loss after iteration 1700: 0.11306524562164705\n",
            "Loss after iteration 1800: 0.09629426845937153\n",
            "Loss after iteration 1900: 0.0834261795972687\n",
            "Loss after iteration 2000: 0.07439078704319083\n",
            "Loss after iteration 2100: 0.06630748132267933\n",
            "Loss after iteration 2200: 0.05919329501038172\n",
            "Loss after iteration 2300: 0.053361403485605585\n",
            "Loss after iteration 2400: 0.048554785628770185\n"
          ],
          "name": "stdout"
        },
        {
          "output_type": "display_data",
          "data": {
            "image/png": "[encoded data removed]",
            "text/plain": [
              "<Figure size 360x288 with 1 Axes>"
            ]
          },
          "metadata": {
            "tags": []
          }
        }
      ]
    },
    {
      "cell_type": "markdown",
      "metadata": {
        "id": "ATFZE7iKf3Cx",
        "colab_type": "text"
      },
      "source": [
        "**Expected Output**:\n",
        "<table> \n",
        "    <tr>\n",
        "        <td> **Loss after iteration 0**</td>\n",
        "        <td> 0.6930497356599888 </td>\n",
        "    </tr>\n",
        "    <tr>\n",
        "        <td> **Loss after iteration 100**</td>\n",
        "        <td> 0.6464320953428849 </td>\n",
        "    </tr>\n",
        "    <tr>\n",
        "        <td> **...**</td>\n",
        "        <td> ... </td>\n",
        "    </tr>\n",
        "    <tr>\n",
        "        <td> **Loss after iteration 2400**</td>\n",
        "        <td> 0.048554785628770206 </td>\n",
        "    </tr>\n",
        "</table>"
      ]
    },
    {
      "cell_type": "markdown",
      "metadata": {
        "id": "GWc9yHKKf3Cx",
        "colab_type": "text"
      },
      "source": [
        "Good thing you built a vectorized implementation! Otherwise it might have taken 10 times longer to train this.\n",
        "\n",
        "Now, you can use the trained parameters to classify images from the dataset. \n",
        "\n",
        "***Exercise:*** \n",
        "- Implement the forward function\n",
        "- Implement the predict function below to make prediction on test_images"
      ]
    },
    {
      "cell_type": "code",
      "metadata": {
        "id": "LasERLT7f3Cy",
        "colab_type": "code",
        "colab": {}
      },
      "source": [
        "def two_layer_forward(X, parameters):\n",
        "    \"\"\"\n",
        "    Implement forward propagation for the [LINEAR->RELU]*(L-1)->LINEAR->SIGMOID computation\n",
        "    \n",
        "    Arguments:\n",
        "    X -- data, numpy array of shape (input size, number of examples)\n",
        "    parameters -- output of initialize_parameters_deep()\n",
        "    \n",
        "    Returns:\n",
        "    AL -- last post-activation value\n",
        "    caches -- list of caches containing:\n",
        "                every cache of linear_relu_forward() (there are L-1 of them, indexed from 0 to L-2)\n",
        "                the cache of linear_sigmoid_forward() (there is one, indexed L-1)\n",
        "    \"\"\"\n",
        "    \n",
        "    caches = []\n",
        "    A = X\n",
        "  \n",
        "    # Implement LINEAR -> RELU. Add \"cache\" to the \"caches\" list.\n",
        "    ### START CODE HERE ### (approx. 3 line of code)\n",
        "    A_prev = A\n",
        "    A, cache = linear_activation_forward(A_prev,parameters[\"W1\"],parameters[\"b1\"], activation=\"relu\")\n",
        "    caches.append(cache)\n",
        "    ### END CODE HERE ###\n",
        "\n",
        "    # Implement LINEAR -> SIGMOID. Add \"cache\" to the \"caches\" list.\n",
        "    ### START CODE HERE ### (approx. 3 line of code)\n",
        "    A2 ,cache = linear_activation_forward(A,parameters[\"W2\"],parameters[\"b2\"], activation=\"sigmoid\")\n",
        "    caches.append(cache)\n",
        "    ### END CODE HERE ###\n",
        "\n",
        "    assert(A2.shape == (1,X.shape[1]))\n",
        "            \n",
        "    return A2, caches"
      ],
      "execution_count": 0,
      "outputs": []
    },
    {
      "cell_type": "code",
      "metadata": {
        "id": "ZCg__wqKf3C1",
        "colab_type": "code",
        "colab": {}
      },
      "source": [
        "def predict(X, y, parameters):\n",
        "    \"\"\"\n",
        "    This function is used to predict the results of a  L-layer neural network.\n",
        "    \n",
        "    Arguments:\n",
        "    X -- data set of examples you would like to label\n",
        "    parameters -- parameters of the trained model\n",
        "    \n",
        "    Returns:\n",
        "    p -- predictions for the given dataset X\n",
        "    \"\"\"\n",
        "   \n",
        "  \n",
        "    \n",
        "    m = X.shape[1]\n",
        "    n = len(parameters) // 2 # number of layers in the neural network\n",
        "    p = np.zeros((1,m))\n",
        "    \n",
        "    # Forward propagation\n",
        "    ### START CODE HERE ### (≈ 1 lines of code)\n",
        "    probas, caches =  two_layer_forward(X,parameters)\n",
        "    ### END CODE HERE ###\n",
        "    \n",
        "    # convert probas to 0/1 predictions\n",
        "    for i in range(0, probas.shape[1]):\n",
        "        ### START CODE HERE ### (≈ 4 lines of code)\n",
        "        if probas[0,i] > 0.5:\n",
        "            p[0,i] = 1\n",
        "        else:\n",
        "            p[0,i] = 0   \n",
        "        ### END CODE HERE ###\n",
        "    \n",
        "    print(\"Accuracy: \"  + str(np.sum((p == y)/m)))\n",
        "        \n",
        "    return p"
      ],
      "execution_count": 0,
      "outputs": []
    },
    {
      "cell_type": "code",
      "metadata": {
        "id": "7XA-QhlNf3C7",
        "colab_type": "code",
        "outputId": "d8f22b2f-fc72-4959-894f-0ff885dc0fa6",
        "colab": {
          "base_uri": "https://localhost:8080/",
          "height": 34
        }
      },
      "source": [
        "\n",
        "predictions_train = predict(train_x, train_y, parameters)"
      ],
      "execution_count": 208,
      "outputs": [
        {
          "output_type": "stream",
          "text": [
            "Accuracy: 0.9999999999999998\n"
          ],
          "name": "stdout"
        }
      ]
    },
    {
      "cell_type": "code",
      "metadata": {
        "id": "JeoBiXaJf3DA",
        "colab_type": "code",
        "outputId": "22ab0788-ae16-4b9b-a7fb-a614ce0a3e72",
        "colab": {
          "base_uri": "https://localhost:8080/",
          "height": 34
        }
      },
      "source": [
        "predictions_test = predict(test_x, test_y, parameters)"
      ],
      "execution_count": 209,
      "outputs": [
        {
          "output_type": "stream",
          "text": [
            "Accuracy: 0.72\n"
          ],
          "name": "stdout"
        }
      ]
    },
    {
      "cell_type": "markdown",
      "metadata": {
        "id": "kApobETmf3DG",
        "colab_type": "text"
      },
      "source": [
        "***Exercise:***\n",
        "Identify the hyperparameters in the model and For each hyperparameter\n",
        "- Briefly explain its role\n",
        "- Explore a range of values and describe their impact on (a) training loss and (b) test accuracy\n",
        "- Report the best hyperparameter value found.\n",
        "\n",
        "Note: Provide your results and explanations in the report for this question."
      ]
    },
    {
      "cell_type": "markdown",
      "metadata": {
        "id": "_wKzkqjrf3DI",
        "colab_type": "text"
      },
      "source": [
        "##  Results Analysis\n",
        "\n",
        "First, let's take a look at some images the 2-layer model labeled incorrectly. This will show a few mislabeled images."
      ]
    },
    {
      "cell_type": "code",
      "metadata": {
        "id": "YJcEIUlqf3DI",
        "colab_type": "code",
        "colab": {}
      },
      "source": [
        "def print_mislabeled_images(classes, X, y, p):\n",
        "    \"\"\"\n",
        "    Plots images where predictions and truth were different.\n",
        "    X -- dataset\n",
        "    y -- true labels\n",
        "    p -- predictions\n",
        "    \"\"\"\n",
        "    a = p + y\n",
        "    mislabeled_indices = np.asarray(np.where(a == 1))\n",
        "    plt.rcParams['figure.figsize'] = (40.0, 40.0) # set default size of plots\n",
        "    num_images = len(mislabeled_indices[0])\n",
        "    for i in range(num_images):\n",
        "        index = mislabeled_indices[1][i]\n",
        "        \n",
        "        plt.subplot(2, num_images, i + 1)\n",
        "        plt.imshow(X[:,index].reshape(64,64,3), interpolation='nearest')\n",
        "        plt.axis('off')\n",
        "        plt.title(\"Prediction: \" + classes[int(p[0,index])].decode(\"utf-8\") + \" \\n Class: \" + classes[y[0,index]].decode(\"utf-8\"))"
      ],
      "execution_count": 0,
      "outputs": []
    },
    {
      "cell_type": "code",
      "metadata": {
        "id": "R42imvHgf3DL",
        "colab_type": "code",
        "outputId": "1ac26a32-76b0-460f-d8ed-2a8fc189df8b",
        "colab": {
          "base_uri": "https://localhost:8080/",
          "height": 106
        }
      },
      "source": [
        "print_mislabeled_images(classes, test_x, test_y, predictions_test)"
      ],
      "execution_count": 212,
      "outputs": [
        {
          "output_type": "display_data",
          "data": {
            "image/png": "[encoded data removed]",
            "text/plain": [
              "<Figure size 2880x2880 with 14 Axes>"
            ]
          },
          "metadata": {
            "tags": []
          }
        }
      ]
    },
    {
      "cell_type": "markdown",
      "metadata": {
        "id": "SgSg-06Ff3DN",
        "colab_type": "text"
      },
      "source": [
        "***Exercise:*** Identify a few types of images that tends to perform poorly on the model"
      ]
    },
    {
      "cell_type": "markdown",
      "metadata": {
        "id": "C6MuGFlJf3DO",
        "colab_type": "text"
      },
      "source": [
        "Now, lets use the same architecture to predict sentiment of movie reviews. In this section, most of the implementation is already provided. The exercises are mainly to understand what the workflow is when handling the text data."
      ]
    },
    {
      "cell_type": "code",
      "metadata": {
        "id": "ayz2X7Ysf3DO",
        "colab_type": "code",
        "colab": {}
      },
      "source": [
        "import re"
      ],
      "execution_count": 0,
      "outputs": []
    },
    {
      "cell_type": "markdown",
      "metadata": {
        "id": "dY4ckRjaf3DR",
        "colab_type": "text"
      },
      "source": [
        "# Dataset"
      ]
    },
    {
      "cell_type": "markdown",
      "metadata": {
        "id": "UfQ14pT0f3DS",
        "colab_type": "text"
      },
      "source": [
        "**Problem Statement**: You are given a dataset (\"train_imdb.txt\", \"test_imdb.txt\") containing:\n",
        "    - a training set of m_train reviews \n",
        "    - a test set of m_test reviews \n",
        "    - the labels for the training examples are such that the first 50% belong to class 1 (positive) and the rest 50% of the data belong to class 0(negative)\n",
        "    \n",
        "Let's get more familiar with the dataset. Load the data by completing the function and run the cell below."
      ]
    },
    {
      "cell_type": "code",
      "metadata": {
        "id": "4o3aAaeff3DS",
        "colab_type": "code",
        "colab": {}
      },
      "source": [
        "def load_data(train_file, test_file):\n",
        "    train_dataset = []\n",
        "    test_dataset = []\n",
        "    \n",
        "    # Read the training dataset file line by line\n",
        "    for line in open(train_file, 'r'):\n",
        "        train_dataset.append(line.strip())\n",
        "        \n",
        "    for line in open(test_file, 'r'):\n",
        "        test_dataset.append(line.strip())\n",
        "    return train_dataset, test_dataset"
      ],
      "execution_count": 0,
      "outputs": []
    },
    {
      "cell_type": "code",
      "metadata": {
        "id": "DWBMZG1rf3DV",
        "colab_type": "code",
        "colab": {}
      },
      "source": [
        "train_file = \"/content/drive/My Drive/data/train_imdb.txt\"\n",
        "test_file = \"/content/drive/My Drive/data/test_imdb.txt\"\n",
        "train_dataset, test_dataset = load_data(train_file, test_file)"
      ],
      "execution_count": 0,
      "outputs": []
    },
    {
      "cell_type": "code",
      "metadata": {
        "id": "YMufOpjFf3Dc",
        "colab_type": "code",
        "colab": {}
      },
      "source": [
        "# This is just how the data is organized. The first 50% data is positive and the rest 50% is negative for both train and test splits.\n",
        "y = [1 if i < len(train_dataset)*0.5 else 0 for i in range(len(train_dataset))]"
      ],
      "execution_count": 0,
      "outputs": []
    },
    {
      "cell_type": "markdown",
      "metadata": {
        "id": "wXqjHbikf3Dg",
        "colab_type": "text"
      },
      "source": [
        "As usual, lets check our dataset "
      ]
    },
    {
      "cell_type": "code",
      "metadata": {
        "id": "wQzFIpSTf3Dh",
        "colab_type": "code",
        "colab": {
          "base_uri": "https://localhost:8080/",
          "height": 72
        },
        "outputId": "2e6b235b-2075-4b6a-eb5e-06772992fd31"
      },
      "source": [
        "# Example of a review\n",
        "index = 10\n",
        "print(train_dataset[index])\n",
        "print (\"y = \" + str(y[index]))"
      ],
      "execution_count": 218,
      "outputs": [
        {
          "output_type": "stream",
          "text": [
            "I liked the film. Some of the action scenes were very interesting, tense and well done. I especially liked the opening scene which had a semi truck in it. A very tense action scene that seemed well done.<br /><br />Some of the transitional scenes were filmed in interesting ways such as time lapse photography, unusual colors, or interesting angles. Also the film is funny is several parts. I also liked how the evil guy was portrayed too. I'd give the film an 8 out of 10.\n",
            "y = 1\n"
          ],
          "name": "stdout"
        }
      ]
    },
    {
      "cell_type": "code",
      "metadata": {
        "id": "eNF8254jf3Dj",
        "colab_type": "code",
        "colab": {
          "base_uri": "https://localhost:8080/",
          "height": 52
        },
        "outputId": "20c96918-143e-46eb-dd45-5b567d165de5"
      },
      "source": [
        "# Explore your dataset \n",
        "m_train = len(train_dataset)\n",
        "m_test = len(test_dataset)\n",
        "\n",
        "print (\"Number of training examples: \" + str(m_train))\n",
        "print (\"Number of testing examples: \" + str(m_test))"
      ],
      "execution_count": 219,
      "outputs": [
        {
          "output_type": "stream",
          "text": [
            "Number of training examples: 1001\n",
            "Number of testing examples: 201\n"
          ],
          "name": "stdout"
        }
      ]
    },
    {
      "cell_type": "markdown",
      "metadata": {
        "id": "TbZLRMh8f3Dn",
        "colab_type": "text"
      },
      "source": [
        "## Pre-Processing"
      ]
    },
    {
      "cell_type": "markdown",
      "metadata": {
        "id": "kAvNWRQNf3Do",
        "colab_type": "text"
      },
      "source": [
        "From the example review, you can see that the raw data is really noisy! This is generally the case with the text data. Hence, Preprocessing the raw input and cleaning the text is  essential. Please run the code snippet provided below.\n",
        "\n",
        "**Exercise**: Explain what pattern the model is trying to capture using re.compile in your report. "
      ]
    },
    {
      "cell_type": "code",
      "metadata": {
        "id": "5Um7w9_pf3Do",
        "colab_type": "code",
        "colab": {}
      },
      "source": [
        "REPLACE_NO_SPACE = re.compile(\"(\\.)|(\\;)|(\\:)|(\\!)|(\\')|(\\?)|(\\,)|(\\\")|(\\()|(\\))|(\\[)|(\\])|(\\d+)\")\n",
        "REPLACE_WITH_SPACE = re.compile(\"(<br\\s*/><br\\s*/>)|(\\-)|(\\/)\")\n",
        "NO_SPACE = \"\"\n",
        "SPACE = \" \"\n",
        "\n",
        "def preprocess_reviews(reviews):\n",
        "    \n",
        "    reviews = [REPLACE_NO_SPACE.sub(NO_SPACE, line.lower()) for line in reviews]\n",
        "    reviews = [REPLACE_WITH_SPACE.sub(SPACE, line) for line in reviews]\n",
        "    \n",
        "    return reviews\n",
        "\n",
        "train_dataset_clean = preprocess_reviews(train_dataset)\n",
        "test_dataset_clean = preprocess_reviews(test_dataset)"
      ],
      "execution_count": 0,
      "outputs": []
    },
    {
      "cell_type": "code",
      "metadata": {
        "id": "gDMCtTT8f3Du",
        "colab_type": "code",
        "colab": {
          "base_uri": "https://localhost:8080/",
          "height": 72
        },
        "outputId": "c828768a-7ce7-4493-8d73-c0dc41eb1f79"
      },
      "source": [
        "# Example of a clean review\n",
        "index = 10\n",
        "print(train_dataset_clean[index])\n",
        "print (\"y = \" + str(y[index]))"
      ],
      "execution_count": 221,
      "outputs": [
        {
          "output_type": "stream",
          "text": [
            "i liked the film some of the action scenes were very interesting tense and well done i especially liked the opening scene which had a semi truck in it a very tense action scene that seemed well done some of the transitional scenes were filmed in interesting ways such as time lapse photography unusual colors or interesting angles also the film is funny is several parts i also liked how the evil guy was portrayed too id give the film an  out of \n",
            "y = 1\n"
          ],
          "name": "stdout"
        }
      ]
    },
    {
      "cell_type": "markdown",
      "metadata": {
        "id": "DRP5Ni2Xf3Dv",
        "colab_type": "text"
      },
      "source": [
        "## Vectorization"
      ]
    },
    {
      "cell_type": "markdown",
      "metadata": {
        "id": "GS5rg1r3f3Dw",
        "colab_type": "text"
      },
      "source": [
        "Now lets create a feature vector for our reviews based on a simple bag of words model. So, given an input text, we need to create a numerical vector which is simply the vector of word counts for each word of the vocabulary. Run the code below to get the feature representation."
      ]
    },
    {
      "cell_type": "code",
      "metadata": {
        "id": "iZB-SSXFf3Dw",
        "colab_type": "code",
        "colab": {}
      },
      "source": [
        "from sklearn.feature_extraction.text import CountVectorizer\n",
        "\n",
        "cv = CountVectorizer(binary=True, stop_words=\"english\", max_features=2000)\n",
        "cv.fit(train_dataset_clean)\n",
        "X = cv.transform(train_dataset_clean)\n",
        "X_test = cv.transform(test_dataset_clean)"
      ],
      "execution_count": 0,
      "outputs": []
    },
    {
      "cell_type": "markdown",
      "metadata": {
        "id": "INGdVjcgf3Dy",
        "colab_type": "text"
      },
      "source": [
        "CountVectorizer provides a sparse feature representation by default which is reasonable because only some words occur in individual example. However, for training neural network models, we generally use a dense representation vector."
      ]
    },
    {
      "cell_type": "code",
      "metadata": {
        "id": "w5Q5w2L7f3Dy",
        "colab_type": "code",
        "colab": {}
      },
      "source": [
        "X = np.array(X.todense()).astype(float)\n",
        "X_test = np.array(X_test.todense()).astype(float)\n",
        "y = np.array(y)"
      ],
      "execution_count": 0,
      "outputs": []
    },
    {
      "cell_type": "markdown",
      "metadata": {
        "id": "aRBeHU7Lf3D1",
        "colab_type": "text"
      },
      "source": [
        "## Model"
      ]
    },
    {
      "cell_type": "code",
      "metadata": {
        "id": "xzzOULiAf3D2",
        "colab_type": "code",
        "colab": {}
      },
      "source": [
        "from sklearn.metrics import accuracy_score\n",
        "from sklearn.model_selection import train_test_split\n",
        "\n",
        "X_train, X_val, y_train, y_val = train_test_split(\n",
        "    X, y, train_size = 0.80\n",
        ")"
      ],
      "execution_count": 0,
      "outputs": []
    },
    {
      "cell_type": "code",
      "metadata": {
        "id": "tnjaYviNf3D5",
        "colab_type": "code",
        "colab": {}
      },
      "source": [
        "# This is just to correct the shape of the arrays as required by the two_layer_model\n",
        "X_train = X_train.T\n",
        "X_val = X_val.T\n",
        "y_train = y_train.reshape(1,-1)\n",
        "y_val = y_val.reshape(1,-1)"
      ],
      "execution_count": 0,
      "outputs": []
    },
    {
      "cell_type": "code",
      "metadata": {
        "id": "PMrPawQsf3D_",
        "colab_type": "code",
        "colab": {}
      },
      "source": [
        "### CONSTANTS DEFINING THE MODEL ####\n",
        "n_x = X_train.shape[0]    \n",
        "n_h = 200\n",
        "n_y = 1\n",
        "layers_dims = (n_x, n_h, n_y)"
      ],
      "execution_count": 0,
      "outputs": []
    },
    {
      "cell_type": "markdown",
      "metadata": {
        "id": "UCqVOucYf3EA",
        "colab_type": "text"
      },
      "source": [
        "We will use the same two layer model that you completed in the previous section for training."
      ]
    },
    {
      "cell_type": "code",
      "metadata": {
        "id": "xMnaQJvsf3EB",
        "colab_type": "code",
        "colab": {
          "base_uri": "https://localhost:8080/",
          "height": 1000
        },
        "outputId": "c9f53aa8-793f-4d9c-f34a-0df87d9da834"
      },
      "source": [
        "parameters = two_layer_model(X_train, y_train, layers_dims = (n_x, n_h, n_y), num_iterations = 2500, print_loss=True)"
      ],
      "execution_count": 233,
      "outputs": [
        {
          "output_type": "stream",
          "text": [
            "Loss after iteration 0: 0.6930794161691755\n",
            "Loss after iteration 100: 0.6924189883930234\n",
            "Loss after iteration 200: 0.6917299099010245\n",
            "Loss after iteration 300: 0.6909631994851958\n",
            "Loss after iteration 400: 0.6900696124661577\n",
            "Loss after iteration 500: 0.6889857497852679\n",
            "Loss after iteration 600: 0.6876313042490358\n",
            "Loss after iteration 700: 0.6858995050819006\n",
            "Loss after iteration 800: 0.6836433757666438\n",
            "Loss after iteration 900: 0.6806944098529379\n",
            "Loss after iteration 1000: 0.6768344235615346\n",
            "Loss after iteration 1100: 0.6717776194654769\n",
            "Loss after iteration 1200: 0.6651747052958659\n",
            "Loss after iteration 1300: 0.6565768499459688\n",
            "Loss after iteration 1400: 0.6455287094427018\n",
            "Loss after iteration 1500: 0.6315360423581516\n",
            "Loss after iteration 1600: 0.6142148671677762\n",
            "Loss after iteration 1700: 0.5933439014258891\n",
            "Loss after iteration 1800: 0.5689508930530667\n",
            "Loss after iteration 1900: 0.5414011334400632\n",
            "Loss after iteration 2000: 0.5114390330601706\n",
            "Loss after iteration 2100: 0.48009643880475156\n",
            "Loss after iteration 2200: 0.44847776841005854\n",
            "Loss after iteration 2300: 0.41754173105719616\n",
            "Loss after iteration 2400: 0.3879904822475933\n"
          ],
          "name": "stdout"
        },
        {
          "output_type": "display_data",
          "data": {
            "image/png": "[encoded data removed]",
            "text/plain": [
              "<Figure size 2880x2880 with 1 Axes>"
            ]
          },
          "metadata": {
            "tags": []
          }
        }
      ]
    },
    {
      "cell_type": "markdown",
      "metadata": {
        "id": "IW1XTisyf3EF",
        "colab_type": "text"
      },
      "source": [
        "## Predict the review for our movies!"
      ]
    },
    {
      "cell_type": "code",
      "metadata": {
        "id": "5bsGIwkDf3EG",
        "colab_type": "code",
        "colab": {
          "base_uri": "https://localhost:8080/",
          "height": 34
        },
        "outputId": "7680e6a8-d326-4848-c9d0-fd2c853020c5"
      },
      "source": [
        "predictions_train = predict(X_train, y_train, parameters)"
      ],
      "execution_count": 234,
      "outputs": [
        {
          "output_type": "stream",
          "text": [
            "Accuracy: 0.9324999999999999\n"
          ],
          "name": "stdout"
        }
      ]
    },
    {
      "cell_type": "code",
      "metadata": {
        "id": "iWxXYp-Tf3EP",
        "colab_type": "code",
        "colab": {
          "base_uri": "https://localhost:8080/",
          "height": 34
        },
        "outputId": "229a9349-33d4-4af3-9c43-5bbb2e815a20"
      },
      "source": [
        "predictions_val = predict(X_val, y_val, parameters)"
      ],
      "execution_count": 235,
      "outputs": [
        {
          "output_type": "stream",
          "text": [
            "Accuracy: 0.8457711442786067\n"
          ],
          "name": "stdout"
        }
      ]
    },
    {
      "cell_type": "markdown",
      "metadata": {
        "id": "z2TjTi26f3ES",
        "colab_type": "text"
      },
      "source": [
        "##  Results Analysis\n",
        "\n",
        "Let's take a look at some examples the 2-layer model labeled incorrectly"
      ]
    },
    {
      "cell_type": "code",
      "metadata": {
        "id": "_s672nvUf3ES",
        "colab_type": "code",
        "colab": {}
      },
      "source": [
        "def print_mislabeled_reviews(X, y, p):\n",
        "    \"\"\"\n",
        "    Plots images where predictions and truth were different.\n",
        "    X -- dataset\n",
        "    y -- true labels\n",
        "    p -- predictions\n",
        "    \"\"\"\n",
        "    a = p + y\n",
        "    mislabeled_indices = np.asarray(np.where(a == 1))\n",
        "    plt.rcParams['figure.figsize'] = (40.0, 40.0) # set default size of plots\n",
        "    num_reviews = len(mislabeled_indices[0])\n",
        "    for i in range(num_reviews):\n",
        "        index = mislabeled_indices[1][i]\n",
        "        \n",
        "        print((\" \").join(cv.inverse_transform(X[index])[0]))\n",
        "        print(\"Prediction: \" + str(int(p[0,index])) + \" \\n Class: \" + str(y[0,index]))"
      ],
      "execution_count": 0,
      "outputs": []
    },
    {
      "cell_type": "code",
      "metadata": {
        "id": "r-zeP85Rf3EU",
        "colab_type": "code",
        "colab": {
          "base_uri": "https://localhost:8080/",
          "height": 1000
        },
        "outputId": "40ed2b58-af1b-46d2-9afe-3e8e195b82fb"
      },
      "source": [
        "print_mislabeled_reviews(X_val.T, y_val, predictions_val)"
      ],
      "execution_count": 237,
      "outputs": [
        {
          "output_type": "stream",
          "text": [
            "actors attempt beauty believable big bit charismatic claims definitely delivery did didnt disappointing disaster entertained fact film fine group job line looked lost miss offensive performance playing plays plot project recommend rent scenes screen seen strong talent wish writing\n",
            "Prediction: 0 \n",
            " Class: 1\n",
            "abuse actress beginning bottle breaking brutal budget camera chair convincing decide disturbing dont effective effects end entertaining episode especially extreme fairly fake falls fantastic film foot forced girl girls given good ground guinea guts hand havent head held hell helped hope hot hours including infamous jack just know let looking lot loud low men mentioned mid obviously office ones pain painful particular people played plays plot point pretty realistic really rest scene scenes second seen sequence sequences series shot simple skin snuff staged stands start stuff takes till times torture turns unconvincing victim video violence want work young\n",
            "Prediction: 0 \n",
            " Class: 1\n",
            "ago art ask ass better blood character child cinema classic come confusing cult damn daughter decides doesnt dying ed epic eventually explain failed fate feel film fly followed following game gave half having help host hours house instead issues job just know levels liked literally little long love make male man maybe message minute modern money movie mr need officer oh opening pain people point pointless police possibly probably producer producers purpose read reason relationship save second self shows son star suffers sure thing things thinking tries try turn unknown unrelated want wife wont written years\n",
            "Prediction: 1 \n",
            " Class: 0\n",
            "anna appearance away bad better bible big black blue book boys build capture cat catch chaos charles child city comic connected cops cult deal didnt doesnt earth edge exactly extreme far favorite fictional fine finished followed fond form fun gang gas genius giant god going good got government green guy guys half happening happens hard havent having heroes hey hospital include japanese join just kind know known like liked line looks lot make match monster movie mysterious naked named names new nice oh order paid past people place places police power problem project puts quickly red remains right seconds seeing series set sexy soon sorts special starts story taking thanks thats theres theyre thing tom unfortunately use using villains violence want whos woman world yeah year youd\n",
            "Prediction: 0 \n",
            " Class: 1\n",
            "actually ahead better box budget burning character charlie come damn development did didnt dont enjoy eye fake far film flick forced genre good guinea guts hand hear heard horror hours interested just know like listen looks lot low making men minutes movie naturally offer painful pretty really recommend say scene scenes second seen set sharp short simply snuff story think thought throwing told torture trying ultimately unless various watching ways went woman worst\n",
            "Prediction: 0 \n",
            " Class: 1\n",
            "cause early effort government heavy past people problems production propaganda short spending sudden time truly using war window\n",
            "Prediction: 1 \n",
            " Class: 0\n",
            "act acts apart bad believe cinematography did directing direction director family given great horrible job just kind like look lot movie opinion performance really running say seeing sleep song stories story think true ugly villains\n",
            "Prediction: 1 \n",
            " Class: 0\n",
            "ability acting actor ages anti better cheap cinema complete confused day decent direction disappointed disappointment does dont dull dvd explanation film finally finding flat gate good got great guess intriguing kind lead like liked love main meet mouth movie performance plot poor premise remind required result rip saw say store story tell thought took tv wanted way week written\n",
            "Prediction: 1 \n",
            " Class: 0\n",
            "action adventure adventures bad camp character characters check crew decided doc elements familiar fan fans feel feeling film good hero heroes im james jones just know long lot major minutes movie movies music number ones promise provided really resulting savage say seeing somewhat spirit star thats theres throw time trying unfortunate way\n",
            "Prediction: 0 \n",
            " Class: 1\n",
            "better body cast central cinema come coming comments company computer decides die entertaining exist failed fall fan film films genius gets getting going great hard hey highly hollywood house idea interested judging latest lesson lessons like make making man member money movie movies near potential premise puts review reviews role scenes seen set shock soon stupid taken takes type unless unrelated wish wow writer writing yes zero\n",
            "Prediction: 1 \n",
            " Class: 0\n",
            "admit almighty attempt big bruce carrey cast cheesy comedy dont end enjoyable fan feel funny gets gone havent help hilarious ill im jim just know let light like movie movies music note poor positive really rest reviews saying seen shows somewhat start steve thinking want writers youre\n",
            "Prediction: 0 \n",
            " Class: 1\n",
            "action age body brain building certainly computer crazy damme daughter dead entertaining especially fan fi fights folks genius goes going goldberg good government guess hes humor just keeps king lame later latest like manages mean named new original particularly perfect power pretty pro reason run sci sequel shoot site snake soldiers sort step super takes thriller train usual van war white working wrong year years youre\n",
            "Prediction: 1 \n",
            " Class: 0\n",
            "acting animals best better die dont entire episode episodes funny good horrible ice just killing know life like movie obviously plot pro problem really remember right scene scenes season second series shocking suspense think torture turns victims watch women wonderful worst\n",
            "Prediction: 0 \n",
            " Class: 1\n",
            "bunch doesnt feel got laugh laughed left like loud make masterpiece movie ok purpose smile times viewer worth\n",
            "Prediction: 0 \n",
            " Class: 1\n",
            "acting adds agree camera care character characters common completely cop cruise decent didnt dying episodes event eyes falling father feeling film girl good great happen happened having held hold hour idea ideas john know like little lot majority maybe memory minute monster particular particularly paul people performance pieces played plays reason recent reminded revealed ridiculous sad said say secret self series shut songs spend stupid sweet theatre theme time tom truly unexpected want wide\n",
            "Prediction: 1 \n",
            " Class: 0\n",
            "alexander annoying away best changing characters christian crying does effect endless events fantastic film filming films final home husband insane ive joan job kill life lighting maybe mom motion party people plays point poor real role scene scenes script seen series setting son soon spend spending spends st starts step themes time tries turns unfortunately whilst\n",
            "Prediction: 1 \n",
            " Class: 0\n",
            "arts blood burning check complex cut director doesnt effects failed fantasy favorite fight film flat going good got half hell hollywood humor im incredible intelligent involved john just kong line lot main meet mind movie movies notice people pretty production rate scenes second seen short shots space special story sure technical theres true wall watching writer\n",
            "Prediction: 0 \n",
            " Class: 1\n",
            "acting away beautifully biggest burt came character drinking fact failure fast fell general help hoping job movie movies night notice played promising real right screen single state thats walk way\n",
            "Prediction: 1 \n",
            " Class: 0\n",
            "action believe changes director episode film hard humanity humor likes making mindless movie parts police provoking questions stick storyline style thought touching\n",
            "Prediction: 0 \n",
            " Class: 1\n",
            "charlie dont eye fake film final harder hot im know like look looks real said say scene scenes sure tell thing truth\n",
            "Prediction: 0 \n",
            " Class: 1\n",
            "actually ago american begin begins big bring buy century circumstances couple does doesnt effects emotional flicks follows happen highly home house husband impact john life like man masterpiece mysterious old outside plot recommended simple special story strange supposedly things turn unknown went woman world\n",
            "Prediction: 0 \n",
            " Class: 1\n",
            "ability able accident action actresses actually aspect away bad believe better bit blood brothers cause cgi charlie crap crime cut days deal death disturbing does doesnt dont effects especially eyes fact fake favorite film films footage forget funny happens hope horror im instead leaving like look lot make makers making marry money movie movies overall people plot point porn probably pull rape rating real saying says scene scenes seen series shocking snuff sound stand stars sucked sucks super supposed sure talent talking thing thinking time tried visual visuals want wanted wasnt watch wouldnt\n",
            "Prediction: 0 \n",
            " Class: 1\n",
            "acting actors admit annoying arent art bad ball beginning best better big billy bits book calling camera case character characters cinematic come coming cons crouse cusack david definitely dialogue did didnt direct directed does doesnt dont early end ending entertaining expecting extremely far feel film filmed films flat forth free fun game games gets getting girl going good guy half help heres hes hour house ill im inner involved isnt james john just keeps lesson let level like lindsay line lines little look looked lose mamet mantegna mark maybe mean men middle mind minutes moves movie narration nature new ones opening pick play precious pretty problem quality questions read reading real realize really result ring roll room scene second shes sort sound sounds speaking standard start stick story strange stuff supposed theatre theyre things true want wants watch way weird whats words work wouldnt write\n",
            "Prediction: 0 \n",
            " Class: 1\n",
            "annoying beautiful easily escape films finds force george god goes good great hand high island isnt jane johnny mention people period player present priest robert singer song thing tries try used woman worst worthy years\n",
            "Prediction: 1 \n",
            " Class: 0\n",
            "actually ago bad better book church course does enjoyable familiar film forgotten forward good hadnt heard hour instantly job know laid let long minute minutes missed mr nearly overall quick read really school second sense short simply story tales thats thing time trilogy watched worked write years\n",
            "Prediction: 0 \n",
            " Class: 1\n",
            "actors ask blood cares character conclusion content crap crew damn day disturbing effort ends episode exception family fan fate gets going gore great gross hopes horror hour imagine lot mindless new performances pointless producers production reason season sense series shock stories story tend thinking utter values violence work worse\n",
            "Prediction: 1 \n",
            " Class: 0\n",
            "absolutely acting bits casting cheap close come comments completely couldve did direction edge end film gone humor intense literally little loved mediocre movie number perfect phone points read rest ring scary script second spot story thrill time years\n",
            "Prediction: 0 \n",
            " Class: 1\n",
            "air amusing angie arent audience audiences baby bad based basic best better boat bore bored bring business came camera care cast central certainly character characters chemistry class cliché come comedic comedy comes considered costumes couple course day decides deliver despite dialogue did didnt director directors does dont door dumb end engaging entertaining eventually fact failure fantasy far feature feel fell female film finding general gets goes going good grade happens hope humanity humour husband im interesting isnt jokes just kate lacks laughed laughs lead learn leave left light like line little live look lost love mainly majority make makes man mentioned mess michael mildly million moments movie movies nature near need obvious odd outside performance personality play playing plot poor premise present presented probably produce quickly rare rarely real really remarkable respect resulting review rich robert roles romance romantic say screen script seen sense sets shallow shot similar simply small sorts story success successful sure themes thing time times town trying typical unfortunately unlikely usually value way weak woman work working works world worth worthy years yes\n",
            "Prediction: 1 \n",
            " Class: 0\n",
            "actors alive based childhood documentary got kill know man mission monster movie people personality played rate real scenes set seven turn used women work\n",
            "Prediction: 0 \n",
            " Class: 1\n",
            "acted action actually amazing apart awful bad boss boys brain burt car chases check comments comparison course crazy did direct dont dumb eccentric enjoyable entertaining evil excellent expect expecting film funny general good having hilarious humour intelligent johnny just know laughs lee like lines long lovely make makes mind miss moment movie nasty open original people poorly read real reality really remember right scott screen self series sort star story surprised thats think truly tv usual want wasnt watch watching way weak william wouldnt\n",
            "Prediction: 0 \n",
            " Class: 1\n",
            "film forgotten late little long makers money movie night present subtle time todays tv\n",
            "Prediction: 0 \n",
            " Class: 1\n"
          ],
          "name": "stdout"
        }
      ]
    },
    {
      "cell_type": "markdown",
      "metadata": {
        "id": "H8W-w5kef3EW",
        "colab_type": "text"
      },
      "source": [
        "**Exercise**: Provide explanation as to why these examples were misclassified below."
      ]
    },
    {
      "cell_type": "markdown",
      "metadata": {
        "id": "rixziomBf3EX",
        "colab_type": "text"
      },
      "source": [
        "**Type your answer here**"
      ]
    },
    {
      "cell_type": "code",
      "metadata": {
        "id": "6GQk7v0bf3EX",
        "colab_type": "code",
        "colab": {}
      },
      "source": [
        "The re.compile is trying to process the data by elimating non-words from the data.\n",
        "The misclassified examples are the result of the model basing on the word count of negative and postitive words.\n",
        "These examples can be divided into two groups: sentences with many negative words but an overall positive sentence meaning,\n",
        "sentences with many positives words but and overall negative sentence meaning.\n",
        "You can say the misclassified examples show the limit of the model based on only word count."
      ],
      "execution_count": 0,
      "outputs": []
    }
  ]
}